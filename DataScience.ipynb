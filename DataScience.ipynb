{
  "nbformat": 4,
  "nbformat_minor": 0,
  "metadata": {
    "colab": {
      "provenance": []
    },
    "kernelspec": {
      "name": "python3",
      "display_name": "Python 3"
    },
    "language_info": {
      "name": "python"
    }
  },
  "cells": [
    {
      "cell_type": "markdown",
      "source": [
        "**PROGRAM 1**\n",
        " Basic array creation"
      ],
      "metadata": {
        "id": "UnkmqpaYDZpG"
      }
    },
    {
      "cell_type": "code",
      "source": [
        "import numpy as np\n",
        "array_from_list = np.array([1, 2, 3, 4, 5])\n",
        "print(\"Array from list:\", array_from_list)\n",
        "array_with_range = np.arange(10)\n",
        "print(\"Array with range:\", array_with_range)\n",
        "zeros_array = np.zeros((3, 3))\n",
        "print(\"Array of zeros:\\n\", zeros_array)\n",
        "ones_array = np.ones((2, 5))\n",
        "print(\"Array of ones: In\", ones_array)"
      ],
      "metadata": {
        "colab": {
          "base_uri": "https://localhost:8080/"
        },
        "id": "BS_BNzKwDhXd",
        "outputId": "1c750b65-de29-40af-a697-96089015513c"
      },
      "execution_count": null,
      "outputs": [
        {
          "output_type": "stream",
          "name": "stdout",
          "text": [
            "Array from list: [1 2 3 4 5]\n",
            "Array with range: [0 1 2 3 4 5 6 7 8 9]\n",
            "Array of zeros:\n",
            " [[0. 0. 0.]\n",
            " [0. 0. 0.]\n",
            " [0. 0. 0.]]\n",
            "Array of ones: In [[1. 1. 1. 1. 1.]\n",
            " [1. 1. 1. 1. 1.]]\n"
          ]
        }
      ]
    },
    {
      "cell_type": "markdown",
      "source": [
        "2.Array Operations"
      ],
      "metadata": {
        "id": "BylfGwzuDsE8"
      }
    },
    {
      "cell_type": "code",
      "source": [
        "import numpy as np\n",
        "\n",
        "a = np.array([1, 2, 3])\n",
        "b = np.array([4, 5, 6])\n",
        "\n",
        "add_result = np.add(a, b)\n",
        "print(\"Addition:\", add_result)\n",
        "\n",
        "sub_result = np.subtract(a, b)\n",
        "print(\"Subtraction:\", sub_result)\n",
        "\n",
        "mul_result = np.multiply(a, b)\n",
        "print(\"Multiplication:\", mul_result)\n",
        "\n",
        "\n",
        "div_result = np.divide(a, b)\n",
        "print(\"Division:\", div_result)\n"
      ],
      "metadata": {
        "colab": {
          "base_uri": "https://localhost:8080/"
        },
        "id": "px_Er9RCDwF4",
        "outputId": "44652abc-a49f-4579-857a-c4433dc7e0a8"
      },
      "execution_count": null,
      "outputs": [
        {
          "output_type": "stream",
          "name": "stdout",
          "text": [
            "Addition: [5 7 9]\n",
            "Subtraction: [-3 -3 -3]\n",
            "Multiplication: [ 4 10 18]\n",
            "Division: [0.25 0.4  0.5 ]\n"
          ]
        }
      ]
    },
    {
      "cell_type": "markdown",
      "source": [
        "3.Array Reshapping"
      ],
      "metadata": {
        "id": "s-5GobcWE_cX"
      }
    },
    {
      "cell_type": "code",
      "source": [
        "import numpy as np\n",
        "array = np.arange (12)\n",
        "print(\"Original array:\", array)\n",
        "reshaped_array = array.reshape((3,4))\n",
        "print(\"Reshaped to 3x4:\\n\", reshaped_array)\n",
        "reshaped_array_3d = array.reshape((2, 3, 2))\n",
        "print(\"Reshaped to 2x3x2:\\n\", reshaped_array_3d)"
      ],
      "metadata": {
        "colab": {
          "base_uri": "https://localhost:8080/"
        },
        "id": "E5Xk_-knFF0B",
        "outputId": "bdfb06c4-bbd3-4094-e0c2-31df80ea51e6"
      },
      "execution_count": null,
      "outputs": [
        {
          "output_type": "stream",
          "name": "stdout",
          "text": [
            "Original array: [ 0  1  2  3  4  5  6  7  8  9 10 11]\n",
            "Reshaped to 3x4:\n",
            " [[ 0  1  2  3]\n",
            " [ 4  5  6  7]\n",
            " [ 8  9 10 11]]\n",
            "Reshaped to 2x3x2:\n",
            " [[[ 0  1]\n",
            "  [ 2  3]\n",
            "  [ 4  5]]\n",
            "\n",
            " [[ 6  7]\n",
            "  [ 8  9]\n",
            "  [10 11]]]\n"
          ]
        }
      ]
    },
    {
      "cell_type": "markdown",
      "source": [
        "4.Indexing and Slicing"
      ],
      "metadata": {
        "id": "5_m8nGGUGbF-"
      }
    },
    {
      "cell_type": "code",
      "source": [
        "import numpy as np\n",
        "array_2d = np.array([[1, 2, 3], [4, 5, 6], [7, 8, 9]])\n",
        "print(\"2D Array: \\n\", array_2d)\n",
        "element = array_2d[1, 2]\n",
        "print(\"Element at (1, 2):\", element)"
      ],
      "metadata": {
        "colab": {
          "base_uri": "https://localhost:8080/"
        },
        "id": "2-vUdm32GgA1",
        "outputId": "cfe3461e-075f-4be4-a364-c72c5e83fffa"
      },
      "execution_count": null,
      "outputs": [
        {
          "output_type": "stream",
          "name": "stdout",
          "text": [
            "2D Array: \n",
            " [[1 2 3]\n",
            " [4 5 6]\n",
            " [7 8 9]]\n",
            "Element at (1, 2): 6\n"
          ]
        }
      ]
    },
    {
      "cell_type": "markdown",
      "source": [
        "**PROGRAM 2**\n",
        "Create two 2D arrays using array object and\n",
        "a. Add the 2 matrices and print it\n",
        "b. Subtract 2 matrices\n",
        "c. Multiply the individual elements of matrix\n",
        "d. Divide the elements of the matrices\n",
        "e. Perform matrix multiplication\n",
        "f. Display transpose of the matrix\n",
        "g. Sum of diagonal elements of a matrix"
      ],
      "metadata": {
        "id": "h0aHGp9JHHLe"
      }
    },
    {
      "cell_type": "code",
      "source": [
        "import numpy as np\n",
        "matrix1 = np.array([[1, 2, 3], [4, 5, 6], [7, 8, 9]])\n",
        "matrix2 = np.array([[9, 8, 7], [6, 5, 4], [3, 2, 1]])\n",
        "\n",
        "matrix_sum = matrix1 + matrix2\n",
        "matrix_diff = matrix1 - matrix2\n",
        "matrix_product = matrix1 * matrix2\n",
        "matrix_divide = matrix1 / matrix2\n",
        "matrix_multiply = np.dot(matrix1, matrix2)\n",
        "matrix1_transpose = np.transpose(matrix1)\n",
        "diagonal_sum = np.trace(matrix1)\n",
        "\n",
        "print(\"Matrix 1:\\n\", matrix1)\n",
        "print(\"Matrix 2:\\n\", matrix2)\n",
        "print(\"Matrix Sum:\\n\", matrix_sum)\n",
        "print(\"Matrix Difference:\\n\", matrix_diff)\n",
        "print(\"Matrix Element-wise Product:\\n\", matrix_product)\n",
        "print(\"Matrix Element-wise Division:\\n\", matrix_divide)\n",
        "print(\"Matrix Multiplication:\\n\", matrix_multiply)\n",
        "print(\"Transpose of Matrix 1:\\n\", matrix1_transpose)\n",
        "print(\"Sum of Diagonal Elements of Matrix 1:\", diagonal_sum)\n",
        "\n",
        "\n",
        "subarray = array_2d[1:3, 0:2]\n",
        "print(\"Sliced subarray:\\n\", subarray)\n",
        "\n",
        "column = array_2d[:, 1]\n",
        "print(\"Column 1 of array_2d:\", column)\n"
      ],
      "metadata": {
        "colab": {
          "base_uri": "https://localhost:8080/"
        },
        "id": "ju1F6eiFShcG",
        "outputId": "f2f94ad1-76c8-404a-8575-eb8e5cd16ba1"
      },
      "execution_count": null,
      "outputs": [
        {
          "output_type": "stream",
          "name": "stdout",
          "text": [
            "Matrix 1:\n",
            " [[1 2 3]\n",
            " [4 5 6]\n",
            " [7 8 9]]\n",
            "Matrix 2:\n",
            " [[9 8 7]\n",
            " [6 5 4]\n",
            " [3 2 1]]\n",
            "Matrix Sum:\n",
            " [[10 10 10]\n",
            " [10 10 10]\n",
            " [10 10 10]]\n",
            "Matrix Difference:\n",
            " [[-8 -6 -4]\n",
            " [-2  0  2]\n",
            " [ 4  6  8]]\n",
            "Matrix Element-wise Product:\n",
            " [[ 9 16 21]\n",
            " [24 25 24]\n",
            " [21 16  9]]\n",
            "Matrix Element-wise Division:\n",
            " [[0.11111111 0.25       0.42857143]\n",
            " [0.66666667 1.         1.5       ]\n",
            " [2.33333333 4.         9.        ]]\n",
            "Matrix Multiplication:\n",
            " [[ 30  24  18]\n",
            " [ 84  69  54]\n",
            " [138 114  90]]\n",
            "Transpose of Matrix 1:\n",
            " [[1 4 7]\n",
            " [2 5 8]\n",
            " [3 6 9]]\n",
            "Sum of Diagonal Elements of Matrix 1: 15\n",
            "Sliced subarray:\n",
            " [[4 5]\n",
            " [7 8]]\n",
            "Column 1 of array_2d: [2 5 8]\n"
          ]
        }
      ]
    },
    {
      "cell_type": "markdown",
      "source": [
        "STATISTICAL OPERATIONS"
      ],
      "metadata": {
        "id": "OZgHQsaKUg8J"
      }
    },
    {
      "cell_type": "code",
      "source": [
        "import numpy as np\n",
        "array = np.array([1, 2, 3, 4, 5, 6, 7, 8, 9, 10])\n",
        "\n",
        "mean = np.mean(array)\n",
        "print(\"Mean:\", mean)\n",
        "median = np.median(array)\n",
        "print(\"Median:\", median)\n",
        "std_dev = np.std(array)\n",
        "print(\"Standard Deviation:\", std_dev)\n",
        "min_val = np.min(array)\n",
        "max_val = np.max(array)\n",
        "print(\"Minimum value:\", min_val)\n",
        "print(\"Maximum value:\", max_val)\n"
      ],
      "metadata": {
        "colab": {
          "base_uri": "https://localhost:8080/"
        },
        "id": "P3KUvTjsUmGg",
        "outputId": "22607f7f-4ba6-4c53-98f3-d9a02a4d51d9"
      },
      "execution_count": 9,
      "outputs": [
        {
          "output_type": "stream",
          "name": "stdout",
          "text": [
            "Mean: 5.5\n",
            "Median: 5.5\n",
            "Standard Deviation: 2.8722813232690143\n",
            "Minimum value: 1\n",
            "Maximum value: 10\n"
          ]
        }
      ]
    },
    {
      "cell_type": "markdown",
      "source": [
        "PROGRAM 3\n",
        "Write a program to display the elements of the matrix X to different powers and identity matrix of a given matrix Also create another matrix Y with same dimensions and display X2 +2Y\n"
      ],
      "metadata": {
        "id": "JFiX6dryVBEX"
      }
    },
    {
      "cell_type": "code",
      "source": [
        "import numpy as np\n",
        "\n",
        "x = np.array([[1, 2], [3, 4]])\n",
        "y = np.array([[5, 6], [7, 8]])\n",
        "print(\"Matrix X is:\\n\", x)\n",
        "print(\"Matrix Y is:\\n\", y)\n",
        "a = np.power(x, 2)\n",
        "print(\"X ^2=\",a)\n",
        "result =a+2*y\n",
        "print(\"X^2+2Y=\",result)\n"
      ],
      "metadata": {
        "colab": {
          "base_uri": "https://localhost:8080/"
        },
        "id": "HZKhHEOrVC3K",
        "outputId": "5c7b61fe-969a-400d-fa97-f191b4884f4e"
      },
      "execution_count": 8,
      "outputs": [
        {
          "output_type": "stream",
          "name": "stdout",
          "text": [
            "Matrix X is:\n",
            " [[1 2]\n",
            " [3 4]]\n",
            "Matrix Y is:\n",
            " [[5 6]\n",
            " [7 8]]\n",
            "X ^2= [[ 1  4]\n",
            " [ 9 16]]\n",
            "X^2+2Y= [[11 16]\n",
            " [23 32]]\n"
          ]
        }
      ]
    },
    {
      "cell_type": "markdown",
      "source": [],
      "metadata": {
        "id": "C7xYjm40WLPA"
      }
    }
  ]
}